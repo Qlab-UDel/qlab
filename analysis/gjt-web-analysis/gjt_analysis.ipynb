{
 "cells": [
  {
   "cell_type": "markdown",
   "metadata": {},
   "source": [
    "# GJT Automation"
   ]
  },
  {
   "cell_type": "markdown",
   "metadata": {},
   "source": [
    "Step 1. Find the location of SPOLI and BLAST GJT folders"
   ]
  },
  {
   "cell_type": "code",
   "execution_count": 1,
   "metadata": {},
   "outputs": [],
   "source": [
    "%set working directory\n",
    "cd /Volumes/data-1/projects/blast/matlab_scripts/gjt_analysis/\n",
    "%Find the location of the SPOLI files\n",
    "spoli_folder = '/Volumes/data-1/projects/spoli/raw_sl_data';\n",
    "%Find the location of the BLAST files\n",
    "blast_folder = '/Volumes/data-1/projects/blast/data/online_sl/blast_child';"
   ]
  },
  {
   "cell_type": "markdown",
   "metadata": {},
   "source": [
    "Step 2. List the contents of SPOLI and BLAST folder and combine the files"
   ]
  },
  {
   "cell_type": "code",
   "execution_count": null,
   "metadata": {},
   "outputs": [],
   "source": [
    "%list the content of the SPOLI folder\n",
    "spoli_files=dir(fullfile(spoli_folder, '*gj.csv')); \n",
    "%lists the content of the BLAST folder\n",
    "blast_files=dir(fullfile(blast_folder, '*gj.csv')); \n",
    "%Combine SPOLI and BLAST files\n",
    "gjt_files = vertcat(spoli_files, blast_files);\n",
    "\n",
    "%Read the scoring conversion table\n",
    "scoring=xlsread('gjt_standard_score_conversion_table.xlsx');"
   ]
  },
  {
   "cell_type": "markdown",
   "metadata": {},
   "source": [
    "Step 3. Find the location of the spreadsheet with subject's ages, read it, and combine BLAST and SPOLI"
   ]
  },
  {
   "cell_type": "code",
   "execution_count": null,
   "metadata": {},
   "outputs": [],
   "source": [
    "%find location of SPOLI ages excel sheet\n",
    "spoli_age_path = '/Volumes/data-1/projects/blast/demographic_data/spoli_ages.xlsx';\n",
    "%Read the SPOLI ages\n",
    "spoli_ages=readtable(spoli_age_path);\n",
    "%find location of BLAST ages excel sheet\n",
    "blast_age_path = '/Volumes/data-1/projects/blast/demographic_data/blast_ages.xlsx';\n",
    "%read the BLAST ages\n",
    "blast_ages=readtable(blast_age_path);\n",
    "\n",
    "% Combine them, pulling just the ages and the participant ids\n",
    "age = vertcat (spoli_ages(:,[1:2]), blast_ages(:,[1:2]));\n",
    "age_length=height(age(:,1)) -1 ;"
   ]
  },
  {
   "cell_type": "markdown",
   "metadata": {},
   "source": [
    "Step 4. Create empty lists for raw score, standard score, and participant IDs, hits, false alarms "
   ]
  },
  {
   "cell_type": "code",
   "execution_count": null,
   "metadata": {},
   "outputs": [],
   "source": [
    "%Total number of files\n",
    "total_files = length(gjt_files); \n",
    "%Standard scores\n",
    "standard_list = string(zeros(total_files,1));\n",
    "%Raw scores\n",
    "raw_score_list = zeros(total_files,1);\n",
    "%ID numbers (strings)\n",
    "ids = [];\n",
    "% hits\n",
    "hits =[];\n",
    "% false alarms\n",
    "false_alarms =[];\n",
    "%a_prime\n",
    "a_prime =[];"
   ]
  },
  {
   "cell_type": "markdown",
   "metadata": {},
   "source": [
    "Step 5. Extract relavant data from combined Excel sheet and calcualte raw score"
   ]
  },
  {
   "cell_type": "code",
   "execution_count": null,
   "metadata": {},
   "outputs": [],
   "source": [
    "%Read the scoring conversion table\n",
    "scoring=xlsread('gjt_standard_score_conversion_table.xlsx');\n",
    "\n",
    "%for loop goes through every file in the selected folder \n",
    "for k=1 : total_files \n",
    "    %Name of the file\n",
    "    base_file_name = gjt_files(k).name; \n",
    "    %Find participant ID from beginning of file name \n",
    "    this_id = (base_file_name(1:11));\n",
    "    ids = vertcat(ids, base_file_name(1:11));\n",
    "    %Find corresponding SPOLI GJT files\n",
    "    if (this_id(1:5)=='spoli')\n",
    "        %Full file\n",
    "        full_file = readtable(fullfile(spoli_folder, base_file_name)); \n",
    "    end\n",
    "    %Find corresponding BLAST GJT files\n",
    "    if (this_id(1:5)=='blast')\n",
    "        %Full file\n",
    "        full_file = readtable(fullfile(blast_folder, base_file_name)); \n",
    "    end\n",
    "    % Find only the rows where the participant judged the sentence as correct or incorrect\n",
    "    % 0 signifies incorrect\n",
    "    % 2 signifies correct\n",
    "    responses = full_file(full_file.button_pressed==string ('0') | full_file.button_pressed==string ('2'),:);\n",
    "    % Add a column with targets\n",
    "    responses.target = [0 2 2 0 2 0 0 2 0 0 2 2 0 0 0 2 0 2 2 2]';\n",
    "    % Find the proportion of hits (saying \"yes\" to a grammatical item)\n",
    "    this_hit = (height(responses(responses.button_pressed==string ('0') & responses.target==0,:))/10);\n",
    "    hits = vertcat (hits, this_hit);\n",
    "    % Find the proportion of false alarms (saying \"yes\" to an ungrammatical item)\n",
    "    this_false_alarm = ((height(responses(responses.button_pressed==string ('0') & responses.target==2,:)))/10);\n",
    "    false_alarms = vertcat(false_alarms, this_false_alarm);\n",
    "    % Find A'. A' = 0.5 + (y ? x) (1 + y ? x)/ 4y (1 ? x), where x = the proportion of false alarms and y = hits\n",
    "    a_prime =  vertcat(a_prime, (0.5+(this_hit-this_false_alarm)*(1+this_hit-this_false_alarm)/4*this_hit*(1-this_false_alarm)));\n",
    "    a_prime_round = round(a_prime,2);\n",
    "    % Match the first row of scoring instructions, which lists all the raw scores, and finds the row which corresponds to the raw score\n",
    "    \n",
    "end"
   ]
  },
  {
   "cell_type": "markdown",
   "metadata": {},
   "source": [
    "Step 6. Combine raw scores (a_prime), and create a table with the particpant id, hit rate, and false alarm rate"
   ]
  },
  {
   "cell_type": "code",
   "execution_count": null,
   "metadata": {},
   "outputs": [],
   "source": [
    "%Combine scores\n",
    "scores=horzcat(string(ids), hits, false_alarms, a_prime_round);\n",
    "%create table\n",
    "titled_scores = array2table(scores, 'VariableNames', {'part_id', 'hit_rate', 'false_alarm_rate', 'a_prime'});"
   ]
  },
  {
   "cell_type": "markdown",
   "metadata": {},
   "source": [
    "Step 7. Find the age that matches to the corresponding participant's raw score and excludes participants that don't have ages inputted for the standard score calcuation"
   ]
  },
  {
   "cell_type": "code",
   "execution_count": null,
   "metadata": {},
   "outputs": [],
   "source": [
    "%%%convert age table to two arrays of id's and ages\n",
    "\n",
    "%age_id is the first column of the age table that lists participants id\n",
    "age_id=age(:,1);\n",
    "%converts the table form of age_id into an array\n",
    "age_id_array=table2array(age_id);\n",
    "\n",
    "%ages is the second column of the age table that lists the particpant's age\n",
    "ages = age(:,2);\n",
    "%converts table form of ages into an array\n",
    "ages_array=table2array(ages);\n",
    "\n",
    "%%%convert table (titled scores) to an array with just the aprime values\n",
    "%takes the 4th column of titled scores (raw scores) \n",
    "aprime_row=titled_scores(:,4);\n",
    "%converts column of raw scores to an array\n",
    "aprime_array=table2array(aprime_row);\n",
    "\n",
    "%length of id's\n",
    "ids_length = length(ids);\n",
    "\n",
    "%converts ids list into a list of strings\n",
    "ids_str=string(ids);\n",
    "\n",
    "%takes the first row of scoring instructions, which lists all the raw scores\n",
    "rows_of_raw_score=scoring(:,1); \n",
    "\n",
    "%ids_string_all_ids is the string with all the participant ids in it \n",
    "%ids_str will exclude the ids that don't have ages inputted \n",
    "ids_string_all_ids=ids_str; \n",
    "\n",
    "%missing_age will be an empty vector of 0 if there are no participants with missing age information\n",
    "missing_age = string(zeros(1));\n",
    "%if statement lets user know if they are missing an age information\n",
    "if ~isempty(setdiff(ids_str,age_id_array))\n",
    "    'missing age information for ' + setdiff(ids_str,age_id_array)\n",
    "    missing_age = setdiff(ids_str,age_id_array);\n",
    "    missing_age_standards=string(zeros(length(missing_age),1));\n",
    "    for k=1:length(missing_age)\n",
    "        missing_age_row = find(strcmp(missing_age(k),ids_str));\n",
    "        %deletes row in ids, hits, false_alarms, and a_prime table\n",
    "        ids_str(missing_age_row,:)=[];\n",
    "        missing_age_standards(k)=string('no age');\n",
    "    end \n",
    "end "
   ]
  },
  {
   "cell_type": "markdown",
   "metadata": {},
   "source": [
    "Step 8. Match the participant ID with their raw score & calculate standard score"
   ]
  },
  {
   "cell_type": "code",
   "execution_count": null,
   "metadata": {},
   "outputs": [],
   "source": [
    "%length of id that doesn't include the particpants with missing age information\n",
    "new_ids_length = length(ids_str);\n",
    "\n",
    "%empty list that for loops adds standard scores to\n",
    "standard_list = string(zeros(new_ids_length,1));\n",
    "%for loop goes through every raw score, matches the id of the raw score to the participant id\n",
    "%to their respective age, and calculates their standard score\n",
    "for k=1:length(ids) \n",
    "    %%%part_id and ages are in different orders, so need to find the correct age in the age table based on part_id%%%\n",
    "   \n",
    "        %part_id(1) is the first participant in the titled scores table\n",
    "        part_id = ids_string_all_ids(k);\n",
    "        \n",
    "        %if statement calculates the standard score\n",
    "        if ismember(part_id,missing_age)\n",
    "            %if the part_id is part of missing_age, the standard coulumn value should output an \"error\" message\n",
    "            standard_list(k)=string('no age information!');\n",
    "        else \n",
    "            %finds the row in the age table that corresponds with the part_id\n",
    "            row_part_age = find(strcmp(part_id,age_id_array(:,:)));\n",
    "            %the participant age is the age in age array that corresponds to the correct part_id \n",
    "            part_age = ages_array(row_part_age);\n",
    "            \n",
    "            %find raw score of participant id\n",
    "            %finds the row that corresponds to the part_id\n",
    "            part_raw_score_row = find(strcmp(part_id,titled_scores{:,:}));\n",
    "            %finds the aprime value that corresponds to the selected part_id\n",
    "            part_raw_score = aprime_array(part_raw_score_row);\n",
    "            \n",
    "            %find row in scoring spreadsheet where the raw score for part_id is located\n",
    "            raw_score_row = find(rows_of_raw_score==str2double(part_raw_score));\n",
    "    \n",
    "        \n",
    "            %if/else statement defines the column of the scoring spreadsheet that corresponds to the child\n",
    "            if part_age >= 6 && part_age < 7\n",
    "                standard_column = 2;\n",
    "                standard = scoring(raw_score_row, standard_column);\n",
    "            elseif part_age >= 7 && part_age < 8\n",
    "                standard_column = 3;\n",
    "                standard = scoring(raw_score_row, standard_column);\n",
    "            elseif part_age >= 8 && part_age < 9\n",
    "                standard_column = 4;\n",
    "                standard = scoring(raw_score_row, standard_column);\n",
    "            elseif part_age >= 9 && part_age < 10\n",
    "                standard_column = 5;\n",
    "                standard = scoring(raw_score_row, standard_column);\n",
    "            else \n",
    "                %if the age is less than 6 or greater than 9\n",
    "                standard= string('no age norm');\n",
    "            end   \n",
    "            standard_list(k)=standard;\n",
    "            \n",
    "        end \n",
    "end \n"
   ]
  },
  {
   "cell_type": "markdown",
   "metadata": {},
   "source": [
    "Step 9. Create table which includes participant ID, hit rate, false alarm rate, raw score, and standard score. Save table to data_summaries folder in NAS"
   ]
  },
  {
   "cell_type": "code",
   "execution_count": null,
   "metadata": {},
   "outputs": [],
   "source": [
    "%add standard scores to titled scores\n",
    "scores_with_standard=horzcat(string(ids), hits, false_alarms, a_prime_round, standard_list);\n",
    "%converts table to array \n",
    "scores_table = array2table(scores_with_standard, 'VariableNames', {'part_id','hit_rate', 'false_alarm_rate', 'a_prime','standard_score'})\n",
    " \n",
    "%save scores_table to data summaries folder \n",
    "writetable(scores_table,'/Volumes/data-1/projects/blast/data_summaries/blast_online_child/breakdown/gjt_score.csv');"
   ]
  }
 ],
 "metadata": {
  "kernelspec": {
   "display_name": "Matlab",
   "language": "matlab",
   "name": "matlab"
  },
  "language_info": {
   "codemirror_mode": "octave",
   "file_extension": ".m",
   "help_links": [
    {
     "text": "MetaKernel Magics",
     "url": "https://github.com/calysto/metakernel/blob/master/metakernel/magics/README.md"
    }
   ],
   "mimetype": "text/x-octave",
   "name": "matlab",
   "version": "0.16.1"
  }
 },
 "nbformat": 4,
 "nbformat_minor": 2
}

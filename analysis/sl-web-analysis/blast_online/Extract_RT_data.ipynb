{
 "cells": [
  {
   "cell_type": "code",
   "execution_count": 5,
   "metadata": {
    "scrolled": false
   },
   "outputs": [
    {
     "ename": "FileNotFoundError",
     "evalue": "File b'Macintosh HD/Users/julieschneider/qlab/analysis/sl-web-analysis/blast_online/blast_a_001_ssl.csv' does not exist",
     "output_type": "error",
     "traceback": [
      "\u001b[0;31m---------------------------------------------------------------------------\u001b[0m",
      "\u001b[0;31mFileNotFoundError\u001b[0m                         Traceback (most recent call last)",
      "\u001b[0;32m<ipython-input-5-b747e2664e9c>\u001b[0m in \u001b[0;36m<module>\u001b[0;34m()\u001b[0m\n\u001b[1;32m      5\u001b[0m \u001b[0;31m#datadir = 'smb://qilab.ling.udel.edu/data/projects/blast/data/online/blast_adult/'\u001b[0m\u001b[0;34m\u001b[0m\u001b[0;34m\u001b[0m\u001b[0m\n\u001b[1;32m      6\u001b[0m \u001b[0mdatadir\u001b[0m \u001b[0;34m=\u001b[0m \u001b[0;34m'Macintosh HD/Users/julieschneider/qlab/analysis/sl-web-analysis/blast_online/'\u001b[0m\u001b[0;34m\u001b[0m\u001b[0m\n\u001b[0;32m----> 7\u001b[0;31m \u001b[0mdata\u001b[0m \u001b[0;34m=\u001b[0m \u001b[0mpd\u001b[0m\u001b[0;34m.\u001b[0m\u001b[0mread_csv\u001b[0m\u001b[0;34m(\u001b[0m\u001b[0mos\u001b[0m\u001b[0;34m.\u001b[0m\u001b[0mpath\u001b[0m\u001b[0;34m.\u001b[0m\u001b[0mjoin\u001b[0m\u001b[0;34m(\u001b[0m\u001b[0mdatadir\u001b[0m\u001b[0;34m,\u001b[0m\u001b[0;34m\"blast_a_001_ssl.csv\"\u001b[0m\u001b[0;34m)\u001b[0m\u001b[0;34m)\u001b[0m\u001b[0;34m\u001b[0m\u001b[0m\n\u001b[0m\u001b[1;32m      8\u001b[0m \u001b[0mdata\u001b[0m\u001b[0;34m\u001b[0m\u001b[0m\n",
      "\u001b[0;32m/Library/Frameworks/Python.framework/Versions/3.7/lib/python3.7/site-packages/pandas/io/parsers.py\u001b[0m in \u001b[0;36mparser_f\u001b[0;34m(filepath_or_buffer, sep, delimiter, header, names, index_col, usecols, squeeze, prefix, mangle_dupe_cols, dtype, engine, converters, true_values, false_values, skipinitialspace, skiprows, nrows, na_values, keep_default_na, na_filter, verbose, skip_blank_lines, parse_dates, infer_datetime_format, keep_date_col, date_parser, dayfirst, iterator, chunksize, compression, thousands, decimal, lineterminator, quotechar, quoting, escapechar, comment, encoding, dialect, tupleize_cols, error_bad_lines, warn_bad_lines, skipfooter, doublequote, delim_whitespace, low_memory, memory_map, float_precision)\u001b[0m\n\u001b[1;32m    676\u001b[0m                     skip_blank_lines=skip_blank_lines)\n\u001b[1;32m    677\u001b[0m \u001b[0;34m\u001b[0m\u001b[0m\n\u001b[0;32m--> 678\u001b[0;31m         \u001b[0;32mreturn\u001b[0m \u001b[0m_read\u001b[0m\u001b[0;34m(\u001b[0m\u001b[0mfilepath_or_buffer\u001b[0m\u001b[0;34m,\u001b[0m \u001b[0mkwds\u001b[0m\u001b[0;34m)\u001b[0m\u001b[0;34m\u001b[0m\u001b[0m\n\u001b[0m\u001b[1;32m    679\u001b[0m \u001b[0;34m\u001b[0m\u001b[0m\n\u001b[1;32m    680\u001b[0m     \u001b[0mparser_f\u001b[0m\u001b[0;34m.\u001b[0m\u001b[0m__name__\u001b[0m \u001b[0;34m=\u001b[0m \u001b[0mname\u001b[0m\u001b[0;34m\u001b[0m\u001b[0m\n",
      "\u001b[0;32m/Library/Frameworks/Python.framework/Versions/3.7/lib/python3.7/site-packages/pandas/io/parsers.py\u001b[0m in \u001b[0;36m_read\u001b[0;34m(filepath_or_buffer, kwds)\u001b[0m\n\u001b[1;32m    438\u001b[0m \u001b[0;34m\u001b[0m\u001b[0m\n\u001b[1;32m    439\u001b[0m     \u001b[0;31m# Create the parser.\u001b[0m\u001b[0;34m\u001b[0m\u001b[0;34m\u001b[0m\u001b[0m\n\u001b[0;32m--> 440\u001b[0;31m     \u001b[0mparser\u001b[0m \u001b[0;34m=\u001b[0m \u001b[0mTextFileReader\u001b[0m\u001b[0;34m(\u001b[0m\u001b[0mfilepath_or_buffer\u001b[0m\u001b[0;34m,\u001b[0m \u001b[0;34m**\u001b[0m\u001b[0mkwds\u001b[0m\u001b[0;34m)\u001b[0m\u001b[0;34m\u001b[0m\u001b[0m\n\u001b[0m\u001b[1;32m    441\u001b[0m \u001b[0;34m\u001b[0m\u001b[0m\n\u001b[1;32m    442\u001b[0m     \u001b[0;32mif\u001b[0m \u001b[0mchunksize\u001b[0m \u001b[0;32mor\u001b[0m \u001b[0miterator\u001b[0m\u001b[0;34m:\u001b[0m\u001b[0;34m\u001b[0m\u001b[0m\n",
      "\u001b[0;32m/Library/Frameworks/Python.framework/Versions/3.7/lib/python3.7/site-packages/pandas/io/parsers.py\u001b[0m in \u001b[0;36m__init__\u001b[0;34m(self, f, engine, **kwds)\u001b[0m\n\u001b[1;32m    785\u001b[0m             \u001b[0mself\u001b[0m\u001b[0;34m.\u001b[0m\u001b[0moptions\u001b[0m\u001b[0;34m[\u001b[0m\u001b[0;34m'has_index_names'\u001b[0m\u001b[0;34m]\u001b[0m \u001b[0;34m=\u001b[0m \u001b[0mkwds\u001b[0m\u001b[0;34m[\u001b[0m\u001b[0;34m'has_index_names'\u001b[0m\u001b[0;34m]\u001b[0m\u001b[0;34m\u001b[0m\u001b[0m\n\u001b[1;32m    786\u001b[0m \u001b[0;34m\u001b[0m\u001b[0m\n\u001b[0;32m--> 787\u001b[0;31m         \u001b[0mself\u001b[0m\u001b[0;34m.\u001b[0m\u001b[0m_make_engine\u001b[0m\u001b[0;34m(\u001b[0m\u001b[0mself\u001b[0m\u001b[0;34m.\u001b[0m\u001b[0mengine\u001b[0m\u001b[0;34m)\u001b[0m\u001b[0;34m\u001b[0m\u001b[0m\n\u001b[0m\u001b[1;32m    788\u001b[0m \u001b[0;34m\u001b[0m\u001b[0m\n\u001b[1;32m    789\u001b[0m     \u001b[0;32mdef\u001b[0m \u001b[0mclose\u001b[0m\u001b[0;34m(\u001b[0m\u001b[0mself\u001b[0m\u001b[0;34m)\u001b[0m\u001b[0;34m:\u001b[0m\u001b[0;34m\u001b[0m\u001b[0m\n",
      "\u001b[0;32m/Library/Frameworks/Python.framework/Versions/3.7/lib/python3.7/site-packages/pandas/io/parsers.py\u001b[0m in \u001b[0;36m_make_engine\u001b[0;34m(self, engine)\u001b[0m\n\u001b[1;32m   1012\u001b[0m     \u001b[0;32mdef\u001b[0m \u001b[0m_make_engine\u001b[0m\u001b[0;34m(\u001b[0m\u001b[0mself\u001b[0m\u001b[0;34m,\u001b[0m \u001b[0mengine\u001b[0m\u001b[0;34m=\u001b[0m\u001b[0;34m'c'\u001b[0m\u001b[0;34m)\u001b[0m\u001b[0;34m:\u001b[0m\u001b[0;34m\u001b[0m\u001b[0m\n\u001b[1;32m   1013\u001b[0m         \u001b[0;32mif\u001b[0m \u001b[0mengine\u001b[0m \u001b[0;34m==\u001b[0m \u001b[0;34m'c'\u001b[0m\u001b[0;34m:\u001b[0m\u001b[0;34m\u001b[0m\u001b[0m\n\u001b[0;32m-> 1014\u001b[0;31m             \u001b[0mself\u001b[0m\u001b[0;34m.\u001b[0m\u001b[0m_engine\u001b[0m \u001b[0;34m=\u001b[0m \u001b[0mCParserWrapper\u001b[0m\u001b[0;34m(\u001b[0m\u001b[0mself\u001b[0m\u001b[0;34m.\u001b[0m\u001b[0mf\u001b[0m\u001b[0;34m,\u001b[0m \u001b[0;34m**\u001b[0m\u001b[0mself\u001b[0m\u001b[0;34m.\u001b[0m\u001b[0moptions\u001b[0m\u001b[0;34m)\u001b[0m\u001b[0;34m\u001b[0m\u001b[0m\n\u001b[0m\u001b[1;32m   1015\u001b[0m         \u001b[0;32melse\u001b[0m\u001b[0;34m:\u001b[0m\u001b[0;34m\u001b[0m\u001b[0m\n\u001b[1;32m   1016\u001b[0m             \u001b[0;32mif\u001b[0m \u001b[0mengine\u001b[0m \u001b[0;34m==\u001b[0m \u001b[0;34m'python'\u001b[0m\u001b[0;34m:\u001b[0m\u001b[0;34m\u001b[0m\u001b[0m\n",
      "\u001b[0;32m/Library/Frameworks/Python.framework/Versions/3.7/lib/python3.7/site-packages/pandas/io/parsers.py\u001b[0m in \u001b[0;36m__init__\u001b[0;34m(self, src, **kwds)\u001b[0m\n\u001b[1;32m   1706\u001b[0m         \u001b[0mkwds\u001b[0m\u001b[0;34m[\u001b[0m\u001b[0;34m'usecols'\u001b[0m\u001b[0;34m]\u001b[0m \u001b[0;34m=\u001b[0m \u001b[0mself\u001b[0m\u001b[0;34m.\u001b[0m\u001b[0musecols\u001b[0m\u001b[0;34m\u001b[0m\u001b[0m\n\u001b[1;32m   1707\u001b[0m \u001b[0;34m\u001b[0m\u001b[0m\n\u001b[0;32m-> 1708\u001b[0;31m         \u001b[0mself\u001b[0m\u001b[0;34m.\u001b[0m\u001b[0m_reader\u001b[0m \u001b[0;34m=\u001b[0m \u001b[0mparsers\u001b[0m\u001b[0;34m.\u001b[0m\u001b[0mTextReader\u001b[0m\u001b[0;34m(\u001b[0m\u001b[0msrc\u001b[0m\u001b[0;34m,\u001b[0m \u001b[0;34m**\u001b[0m\u001b[0mkwds\u001b[0m\u001b[0;34m)\u001b[0m\u001b[0;34m\u001b[0m\u001b[0m\n\u001b[0m\u001b[1;32m   1709\u001b[0m \u001b[0;34m\u001b[0m\u001b[0m\n\u001b[1;32m   1710\u001b[0m         \u001b[0mpassed_names\u001b[0m \u001b[0;34m=\u001b[0m \u001b[0mself\u001b[0m\u001b[0;34m.\u001b[0m\u001b[0mnames\u001b[0m \u001b[0;32mis\u001b[0m \u001b[0;32mNone\u001b[0m\u001b[0;34m\u001b[0m\u001b[0m\n",
      "\u001b[0;32mpandas/_libs/parsers.pyx\u001b[0m in \u001b[0;36mpandas._libs.parsers.TextReader.__cinit__\u001b[0;34m()\u001b[0m\n",
      "\u001b[0;32mpandas/_libs/parsers.pyx\u001b[0m in \u001b[0;36mpandas._libs.parsers.TextReader._setup_parser_source\u001b[0;34m()\u001b[0m\n",
      "\u001b[0;31mFileNotFoundError\u001b[0m: File b'Macintosh HD/Users/julieschneider/qlab/analysis/sl-web-analysis/blast_online/blast_a_001_ssl.csv' does not exist"
     ]
    }
   ],
   "source": [
    "import pandas as pd\n",
    "import numpy as np\n",
    "import os,json,glob,sys\n",
    "\n",
    "datadir = 'smb://qilab.ling.udel.edu/data/projects/blast/data/online/blast_adult/'\n",
    "#datadir = 'Macintosh HD/Users/julieschneider/qlab/analysis/sl-web-analysis/blast_online/'\n",
    "data = pd.read_csv(os.path.join(datadir,\"blast_a_001_ssl.csv\"))\n",
    "data"
   ]
  },
  {
   "cell_type": "code",
   "execution_count": 2,
   "metadata": {},
   "outputs": [
    {
     "data": {
      "text/plain": [
       "58.2788"
      ]
     },
     "execution_count": 2,
     "metadata": {},
     "output_type": "execute_result"
    }
   ],
   "source": [
    "#compute the actual onset of the task\n",
    "onset_extract=data[data.file == '5'].onset\n",
    "np.asarray(onset_extract)\n",
    "task_onset= onset_extract.iloc[0]\n",
    "task_onset"
   ]
  },
  {
   "cell_type": "code",
   "execution_count": 3,
   "metadata": {},
   "outputs": [
    {
     "data": {
      "text/plain": [
       "0            NaN\n",
       "1            NaN\n",
       "2       -37.7514\n",
       "3       -37.7514\n",
       "4       -37.6520\n",
       "5       -37.5419\n",
       "6       -37.4296\n",
       "7       -37.4139\n",
       "8       -37.3714\n",
       "9       -37.0232\n",
       "10      -37.0232\n",
       "11      -36.9783\n",
       "12      -36.9432\n",
       "13      -36.9426\n",
       "14      -36.9425\n",
       "15      -36.9393\n",
       "16      -36.8909\n",
       "17      -36.8874\n",
       "18      -36.8794\n",
       "19      -36.8764\n",
       "20      -36.8745\n",
       "21      -36.8724\n",
       "22      -36.8717\n",
       "23      -36.8617\n",
       "24      -36.8519\n",
       "25      -36.8419\n",
       "26      -36.8321\n",
       "27      -36.8218\n",
       "28      -36.8119\n",
       "29      -36.8021\n",
       "          ...   \n",
       "8134    331.9774\n",
       "8135    332.0179\n",
       "8136    332.0272\n",
       "8137    332.0272\n",
       "8138    332.0272\n",
       "8139    332.0272\n",
       "8140    332.7771\n",
       "8141    332.8268\n",
       "8142    333.0174\n",
       "8143    333.0267\n",
       "8144    333.0267\n",
       "8145    333.0267\n",
       "8146    333.0267\n",
       "8147    333.5768\n",
       "8148    333.8263\n",
       "8149    334.0169\n",
       "8150    334.0262\n",
       "8151    334.0262\n",
       "8152    334.0262\n",
       "8153    334.0262\n",
       "8154    334.3767\n",
       "8155    334.8258\n",
       "8156    335.0164\n",
       "8157    335.0257\n",
       "8158    335.0257\n",
       "8159    335.0257\n",
       "8160    335.0257\n",
       "8161    335.1763\n",
       "8162    335.8253\n",
       "8163    336.5407\n",
       "Name: newonset, Length: 8164, dtype: float64"
      ]
     },
     "execution_count": 3,
     "metadata": {},
     "output_type": "execute_result"
    }
   ],
   "source": [
    "#compute new column of onset times by subtracting actual start time of task\n",
    "EV_cortime = data['onset']-task_onset\n",
    "data['newonset'] = EV_cortime\n",
    "data.newonset"
   ]
  },
  {
   "cell_type": "code",
   "execution_count": 4,
   "metadata": {},
   "outputs": [
    {
     "data": {
      "text/plain": [
       "3919      2.0282\n",
       "4424     50.0028\n",
       "4678     58.0273\n",
       "5152    106.0055\n",
       "5406    114.0331\n",
       "6152    170.0341\n",
       "6899    226.0368\n",
       "7642    282.0382\n",
       "8116    330.0160\n",
       "Name: newonset, dtype: float64"
      ]
     },
     "execution_count": 4,
     "metadata": {},
     "output_type": "execute_result"
    }
   ],
   "source": [
    "#timedf=data[data.event == 'Created sequence: sequential'].newonset\n",
    "timedf=data[data.event == 'Imported'].newonset\n",
    "timedf"
   ]
  },
  {
   "cell_type": "code",
   "execution_count": 6,
   "metadata": {},
   "outputs": [
    {
     "name": "stdout",
     "output_type": "stream",
     "text": [
      "      newonset    0\n",
      "0          NaN    S\n",
      "1          NaN    R\n",
      "2          NaN    R\n",
      "3919    2.0282  NaN\n",
      "4424   50.0028  NaN\n",
      "4678   58.0273  NaN\n",
      "5152  106.0055  NaN\n",
      "5406  114.0331  NaN\n",
      "6152  170.0341  NaN\n",
      "6899  226.0368  NaN\n",
      "7642  282.0382  NaN\n",
      "8116  330.0160  NaN\n"
     ]
    }
   ],
   "source": [
    "#read in csv file\n",
    "df = pd.read_csv(os.path.join(datadir,\"blast_c_061_visual_1.csv\"))\n",
    "#print(df.loc[df['condition'] == 'R'])\n",
    "loc1 = df.iloc[1,5]\n",
    "loc2 = df.iloc[127,5]\n",
    "loc3 = df.iloc[252,5]\n",
    "loc4 = df.iloc[376,5]\n",
    "loc5 = df.iloc[502,5]\n",
    "loc6 = df.iloc[626,5]\n",
    "\n",
    "clocdf = pd.Series([loc1,loc2,loc3])\n",
    "alocdf = pd.Series([loc1,loc2,loc3,loc4,loc5,loc6])\n",
    "newdf= pd.concat([timedf,locdf],axis=1)\n",
    "print (newdf)"
   ]
  },
  {
   "cell_type": "code",
   "execution_count": 10,
   "metadata": {},
   "outputs": [
    {
     "name": "stdout",
     "output_type": "stream",
     "text": [
      "      newonset    0\n",
      "0          NaN    R\n",
      "1          NaN    R\n",
      "2          NaN    S\n",
      "3          NaN    R\n",
      "4          NaN    S\n",
      "5          NaN    S\n",
      "3919    2.0282  NaN\n",
      "4424   50.0028  NaN\n",
      "4678   58.0273  NaN\n",
      "5152  106.0055  NaN\n",
      "5406  114.0331  NaN\n",
      "6152  170.0341  NaN\n",
      "6899  226.0368  NaN\n",
      "7642  282.0382  NaN\n",
      "8116  330.0160  NaN\n"
     ]
    }
   ],
   "source": [
    "#read in CHILD visual csv file\n",
    "df = pd.read_csv(os.path.join(datadir,\"blast_c_061_visual_4.csv\"))\n",
    "#print(df.loc[df['condition'] == 'R'])\n",
    "loc1 = df.iloc[1,5]\n",
    "loc2 = df.iloc[55,5]\n",
    "loc3 = df.iloc[110,5]\n",
    "loc4 = df.iloc[164,5]\n",
    "loc5 = df.iloc[218,5]\n",
    "loc6 = df.iloc[272,5]\n",
    "\n",
    "locdf = pd.Series([loc1,loc2,loc3,loc4,loc5,loc6])\n",
    "newdf= pd.concat([timedf,locdf],axis=1)\n",
    "print (newdf)"
   ]
  },
  {
   "cell_type": "code",
   "execution_count": null,
   "metadata": {},
   "outputs": [],
   "source": [
    "sound_st= data[(data.event == 'Sound') & (data.file== 'Started')].newonset\n",
    "sound_st"
   ]
  },
  {
   "cell_type": "code",
   "execution_count": null,
   "metadata": {},
   "outputs": [],
   "source": [
    "sound_onset=data[data.event == 'Sound' & data.file == 'Started'].newonset\n",
    "np.asarray(onset_extract)"
   ]
  }
 ],
 "metadata": {
  "kernelspec": {
   "display_name": "Python 3",
   "language": "python",
   "name": "python3"
  },
  "language_info": {
   "codemirror_mode": {
    "name": "ipython",
    "version": 3
   },
   "file_extension": ".py",
   "mimetype": "text/x-python",
   "name": "python",
   "nbconvert_exporter": "python",
   "pygments_lexer": "ipython3",
   "version": "3.7.0"
  }
 },
 "nbformat": 4,
 "nbformat_minor": 2
}
